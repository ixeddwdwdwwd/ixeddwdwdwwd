{
  "nbformat": 4,
  "nbformat_minor": 0,
  "metadata": {
    "colab": {
      "name": "рекурсивная функция.Новоселов.ipynb",
      "provenance": [],
      "authorship_tag": "ABX9TyOEaot1AwFwPZam/jIFQgBl",
      "include_colab_link": true
    },
    "kernelspec": {
      "name": "python3",
      "display_name": "Python 3"
    },
    "language_info": {
      "name": "python"
    }
  },
  "cells": [
    {
      "cell_type": "markdown",
      "metadata": {
        "id": "view-in-github",
        "colab_type": "text"
      },
      "source": [
        "<a href=\"https://colab.research.google.com/github/ixeddwdwdwwd/ixeddwdwdwwd/blob/main/%D1%80%D0%B5%D0%BA%D1%83%D1%80%D1%81%D0%B8%D0%B2%D0%BD%D0%B0%D1%8F_%D1%84%D1%83%D0%BD%D0%BA%D1%86%D0%B8%D1%8F_%D0%9D%D0%BE%D0%B2%D0%BE%D1%81%D0%B5%D0%BB%D0%BE%D0%B2.ipynb\" target=\"_parent\"><img src=\"https://colab.research.google.com/assets/colab-badge.svg\" alt=\"Open In Colab\"/></a>"
      ]
    },
    {
      "cell_type": "code",
      "metadata": {
        "id": "_H8krUYBEom2",
        "colab": {
          "base_uri": "https://localhost:8080/"
        },
        "outputId": "9a8aa423-042d-40e6-b943-d6634a251a54"
      },
      "source": [
        "def sum_of_numbers(l):\n",
        "   if len(l) == 1:\n",
        "        return 0\n",
        "   else:\n",
        "        return l[0] + sum(l[1:])\n",
        "         \n",
        "a =[5,7,3,8,10,123,34,345,234,234,234,23432,23,143]\n",
        " \n",
        "print(sum(a))"
      ],
      "execution_count": 37,
      "outputs": [
        {
          "output_type": "stream",
          "text": [
            "24835\n"
          ],
          "name": "stdout"
        }
      ]
    }
  ]
}